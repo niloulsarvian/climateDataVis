{
 "cells": [
  {
   "cell_type": "code",
   "execution_count": 1,
   "metadata": {},
   "outputs": [],
   "source": [
    "import pandas as pd\n",
    "import numpy as np"
   ]
  },
  {
   "cell_type": "code",
   "execution_count": 2,
   "metadata": {},
   "outputs": [],
   "source": [
    "#import data file, split data file, take only what columns i need, make nnew file\n",
    "#check data, time, lat long, make sure all are in correct format\n",
    "datafile = pd.read_csv('finalProj_hourly_so2_2020.csv', low_memory = False)"
   ]
  },
  {
   "cell_type": "code",
   "execution_count": 3,
   "metadata": {},
   "outputs": [],
   "source": [
    "#subsampled of just the stuff I want, no column names changed\n",
    "Ssub = datafile[['County Code','Site Num', 'Latitude', 'Longitude', 'Date Local',\n",
    "                 'Time Local', 'Sample Measurement', 'Units of Measure','State Name', \n",
    "                 'County Name', 'Method Name']]\n",
    "#(there WAS a bug here): I cannot figure out why I have to rename a column of Ssub and \n",
    "#then call it ressub for the subsequent conversion/filter line to work. something about how it \n",
    "#cannot be a copy of a slice from the original df \"(A value is trying \n",
    "#to be set on a copy of a slice from a DataFrame.)\" fixed it by using .loc (didnt fix)"
   ]
  },
  {
   "cell_type": "code",
   "execution_count": 4,
   "metadata": {},
   "outputs": [
    {
     "name": "stderr",
     "output_type": "stream",
     "text": [
      "/opt/anaconda3/lib/python3.7/site-packages/pandas/core/indexing.py:376: SettingWithCopyWarning: \n",
      "A value is trying to be set on a copy of a slice from a DataFrame.\n",
      "Try using .loc[row_indexer,col_indexer] = value instead\n",
      "\n",
      "See the caveats in the documentation: http://pandas.pydata.org/pandas-docs/stable/user_guide/indexing.html#returning-a-view-versus-a-copy\n",
      "  self.obj[key] = _infer_fill_value(value)\n",
      "/opt/anaconda3/lib/python3.7/site-packages/pandas/core/indexing.py:494: SettingWithCopyWarning: \n",
      "A value is trying to be set on a copy of a slice from a DataFrame.\n",
      "Try using .loc[row_indexer,col_indexer] = value instead\n",
      "\n",
      "See the caveats in the documentation: http://pandas.pydata.org/pandas-docs/stable/user_guide/indexing.html#returning-a-view-versus-a-copy\n",
      "  self.obj[item] = s\n"
     ]
    }
   ],
   "source": [
    "#made new column same as time local called it morning T\n",
    "Ssub.loc[:,('MorningT')] = Ssub.loc[:,('Time Local')].copy()\n",
    "#split MorningT so it is just a number, convert to numeric so I can filter\n",
    "Ssub.loc[:,('MorningT')]= pd.to_numeric(Ssub['MorningT'].str.split(':',expand = True)[0])\n",
    "#filter for morning rush hour times 6 to 9am, and only uv flu method, made new df\n",
    "ressub = Ssub[((Ssub['MorningT'] <= 9) &(Ssub['MorningT'] >= 6)&(Ssub['Method Name'] == \n",
    "               'INSTRUMENTAL - ULTRAVIOLET FLUORESCENCE'))]"
   ]
  },
  {
   "cell_type": "code",
   "execution_count": 5,
   "metadata": {},
   "outputs": [],
   "source": [
    "#make new df (not in ressub because it wont be the same length) average of \n",
    "#every month 6-9am at every unique location \n",
    "##first, split date local into just the value of the month make new column\n",
    "ressub.loc[:,('Month num')] = Ssub.loc[:,('Date Local')].copy()\n",
    "ressub.loc[:,('Month num')] = pd.to_numeric(ressub['Month num'].str.split('/',\n",
    "           expand = True)[0])\n",
    "#make new df of just stuff I am going to be filtering for (month, specific site)\n",
    "#how many sites will I be analyzing for? \n",
    "#just found out that not all the sites have the same amount of date data \n",
    " \n",
    "\n",
    "        "
   ]
  },
  {
   "cell_type": "code",
   "execution_count": 6,
   "metadata": {},
   "outputs": [],
   "source": [
    "#check how many different sites \n",
    "    #there are PROBLEM there are more lat longs than counties, \n",
    "    #and there are more coutnies than site numbers\n",
    "    #to solve this I am going to make a dict that matches a site number to a lat long\n",
    "    \n",
    "#print(len(pd.unique(ressub['County Code'])))\n",
    "#print(len(pd.unique(ressub['Site Num'])))\n",
    "#print(len(pd.unique(ressub['Latitude'])))\n",
    "#put all the unique site numbers in a variable\n",
    "sitenums = ressub['Site Num'].unique()\n",
    "\n",
    "\n",
    "# i am trying to sort by site number and month, so that I can take the average \n",
    "#of the sample measurements per site number per month, but I cannot isolate them (ok i did it!)"
   ]
  },
  {
   "cell_type": "code",
   "execution_count": 7,
   "metadata": {},
   "outputs": [],
   "source": [
    "#JAN VALUES FOR ALL SITE NUMBERS\n",
    "meanvalsjan = []\n",
    "for i in sitenums: \n",
    "    temp = ressub[(ressub['Site Num'] == i)&(ressub['Month num'] == 1)]\n",
    "    meanvalsjan.append(temp['Sample Measurement'].mean())\n",
    "\n",
    "#FEB VALUES FOR ALL SITE NUMBERS\n",
    "meanvalsfeb = []\n",
    "for i in sitenums:\n",
    "    temp = ressub[(ressub['Site Num'] == i)&(ressub['Month num'] == 2)]\n",
    "    meanvalsfeb.append(temp['Sample Measurement'].mean())\n",
    "#MARCH VALUES FOR ALL SITE NUMBERS\n",
    "meanvalsmar = []\n",
    "for i in sitenums:\n",
    "    temp = ressub[(ressub['Site Num'] == i)&(ressub['Month num'] == 3)]\n",
    "    meanvalsmar.append(temp['Sample Measurement'].mean())\n",
    "#APRIL VALUES FOR ALL SITE NUMBERS\n",
    "meanvalsapr = []\n",
    "for i in sitenums:\n",
    "    temp = ressub[(ressub['Site Num'] == i)&(ressub['Month num'] == 4)]\n",
    "    meanvalsapr.append(temp['Sample Measurement'].mean())    \n",
    " "
   ]
  },
  {
   "cell_type": "code",
   "execution_count": 8,
   "metadata": {},
   "outputs": [],
   "source": [
    "#ok I have averages of all the months, i want to now make a data frame that is\n",
    "    #sites on the y axis and months on the x axis \n",
    "\n",
    "#first, concatonate all the arrays together into a 4x59 dataframe\n",
    "    #at some point I need to add column and row names\n",
    "meanvalsall = pd.DataFrame(zip(sitenums,meanvalsjan,meanvalsfeb,\n",
    "                               meanvalsmar,meanvalsapr))"
   ]
  },
  {
   "cell_type": "code",
   "execution_count": 10,
   "metadata": {},
   "outputs": [
    {
     "ename": "NameError",
     "evalue": "name 'locationdatamean' is not defined",
     "output_type": "error",
     "traceback": [
      "\u001b[0;31m---------------------------------------------------------------------------\u001b[0m",
      "\u001b[0;31mNameError\u001b[0m                                 Traceback (most recent call last)",
      "\u001b[0;32m<ipython-input-10-271eac039354>\u001b[0m in \u001b[0;36m<module>\u001b[0;34m\u001b[0m\n\u001b[1;32m      1\u001b[0m \u001b[0;31m#next step is to arrange all the pertinent data into one data frame\u001b[0m\u001b[0;34m\u001b[0m\u001b[0;34m\u001b[0m\u001b[0;34m\u001b[0m\u001b[0m\n\u001b[0;32m----> 2\u001b[0;31m \u001b[0malldataDF\u001b[0m \u001b[0;34m=\u001b[0m \u001b[0mpd\u001b[0m\u001b[0;34m.\u001b[0m\u001b[0mDataFrame\u001b[0m\u001b[0;34m.\u001b[0m\u001b[0mfrom_dict\u001b[0m\u001b[0;34m(\u001b[0m\u001b[0mlocationdatamean\u001b[0m\u001b[0;34m)\u001b[0m\u001b[0;34m\u001b[0m\u001b[0;34m\u001b[0m\u001b[0m\n\u001b[0m\u001b[1;32m      3\u001b[0m \u001b[0;34m\u001b[0m\u001b[0m\n\u001b[1;32m      4\u001b[0m \u001b[0;31m#now I want to add a value that converts the mean values into a converted greyscale,\u001b[0m\u001b[0;34m\u001b[0m\u001b[0;34m\u001b[0m\u001b[0;34m\u001b[0m\u001b[0m\n\u001b[1;32m      5\u001b[0m     \u001b[0;31m#add that as a column in the data frame\u001b[0m\u001b[0;34m\u001b[0m\u001b[0;34m\u001b[0m\u001b[0;34m\u001b[0m\u001b[0m\n",
      "\u001b[0;31mNameError\u001b[0m: name 'locationdatamean' is not defined"
     ]
    }
   ],
   "source": [
    "#next step is to arrange all the pertinent data into one data frame \n",
    "alldataDF = pd.DataFrame.from_dict(locationdatamean)\n",
    "\n",
    "#now I want to add a value that converts the mean values into a converted greyscale,\n",
    "    #add that as a column in the data frame"
   ]
  },
  {
   "cell_type": "code",
   "execution_count": 9,
   "metadata": {},
   "outputs": [
    {
     "ename": "NameError",
     "evalue": "name 'alldataDF' is not defined",
     "output_type": "error",
     "traceback": [
      "\u001b[0;31m---------------------------------------------------------------------------\u001b[0m",
      "\u001b[0;31mNameError\u001b[0m                                 Traceback (most recent call last)",
      "\u001b[0;32m<ipython-input-9-0f40a1ab78c2>\u001b[0m in \u001b[0;36m<module>\u001b[0;34m\u001b[0m\n\u001b[1;32m      3\u001b[0m     \u001b[0;31m#there is a problem here - some site numbers have multiple county codes but solution below\u001b[0m\u001b[0;34m\u001b[0m\u001b[0;34m\u001b[0m\u001b[0;34m\u001b[0m\u001b[0m\n\u001b[1;32m      4\u001b[0m     \u001b[0;31m#because there are multiple latitudes for each site num, im just going to pick the first one\u001b[0m\u001b[0;34m\u001b[0m\u001b[0;34m\u001b[0m\u001b[0;34m\u001b[0m\u001b[0m\n\u001b[0;32m----> 5\u001b[0;31m \u001b[0mprint\u001b[0m\u001b[0;34m(\u001b[0m\u001b[0mlen\u001b[0m\u001b[0;34m(\u001b[0m\u001b[0malldataDF\u001b[0m\u001b[0;34m[\u001b[0m\u001b[0;34m'Mean Values April'\u001b[0m\u001b[0;34m]\u001b[0m\u001b[0;34m.\u001b[0m\u001b[0mdropna\u001b[0m\u001b[0;34m(\u001b[0m\u001b[0;34m)\u001b[0m\u001b[0;34m)\u001b[0m\u001b[0;34m)\u001b[0m\u001b[0;34m\u001b[0m\u001b[0;34m\u001b[0m\u001b[0m\n\u001b[0m\u001b[1;32m      6\u001b[0m \u001b[0mlatdata\u001b[0m \u001b[0;34m=\u001b[0m \u001b[0;34m[\u001b[0m\u001b[0;34m]\u001b[0m\u001b[0;34m\u001b[0m\u001b[0;34m\u001b[0m\u001b[0m\n\u001b[1;32m      7\u001b[0m \u001b[0;32mfor\u001b[0m \u001b[0mi\u001b[0m \u001b[0;32min\u001b[0m \u001b[0msitenums\u001b[0m\u001b[0;34m:\u001b[0m\u001b[0;34m\u001b[0m\u001b[0;34m\u001b[0m\u001b[0m\n",
      "\u001b[0;31mNameError\u001b[0m: name 'alldataDF' is not defined"
     ]
    }
   ],
   "source": [
    "#now that its one dataframe, I want to add the location data into it \n",
    "#find the latitude and longitude for each specific site, store in own dictionary\n",
    "    #there is a problem here - some site numbers have multiple county codes but solution below\n",
    "    #because there are multiple latitudes for each site num, im just going to pick the first one\n",
    "print(len(alldataDF['Mean Values April'].dropna()))\n",
    "latdata = []\n",
    "for i in sitenums:\n",
    "    temp = ressub[(ressub['Site Num'] == i)]\n",
    "    temp2 = pd.unique(temp['Latitude'])\n",
    "    #print(temp2[0])\n",
    "    latdata.append(temp2[0])\n",
    "    \n",
    "longdata = []\n",
    "for i in sitenums:\n",
    "    temp = ressub[(ressub['Site Num'] == i)]\n",
    "    temp2 = pd.unique(temp['Longitude'])\n",
    "    longdata.append(temp2[0])\n",
    "\n",
    "locationdata = dict()\n",
    "locationdatamean = {'site number': sitenums, 'lats': latdata, 'longs': longdata,\n",
    "                'Mean Values Jan': meanvalsjan, 'Mean Values Feb': meanvalsfeb,\n",
    "                'Mean Values March': meanvalsmar, 'Mean Values April': meanvalsapr}"
   ]
  },
  {
   "cell_type": "code",
   "execution_count": null,
   "metadata": {},
   "outputs": [],
   "source": []
  },
  {
   "cell_type": "code",
   "execution_count": null,
   "metadata": {},
   "outputs": [],
   "source": [
    "import pygmt\n",
    "fig = pygmt.Figure()\n",
    "#i want all of america because i have a bunch of states as seen here\n",
    "statename = pd.unique(ressub['State Name'])"
   ]
  },
  {
   "cell_type": "code",
   "execution_count": null,
   "metadata": {},
   "outputs": [],
   "source": [
    "fig.coast(\n",
    "    region=[-115, -70, 25, 45],\n",
    "    projection='M4i',\n",
    "    shorelines=True,\n",
    "    water='lightblue',\n",
    "    land='white',\n",
    "    frame=True,\n",
    ")"
   ]
  },
  {
   "cell_type": "code",
   "execution_count": null,
   "metadata": {},
   "outputs": [],
   "source": [
    "#JAN VALUES\n",
    "\n",
    "jancolor = []\n",
    "for i in alldataDF['Mean Values Jan']:\n",
    "    jancolor.append(str(i*255/10))\n",
    "\n",
    "#need to define the coords in a new variable\n",
    "coordscolorjan = list(zip(longdata,latdata,jancolor,sitenums))\n",
    "\n",
    "for clong,clat,col,sitnm in coordscolorjan:  \n",
    "    fig.plot(\n",
    "        x=clong,\n",
    "        y=clat,\n",
    "        style='c0.1i',\n",
    "        color= col,\n",
    "        pen='black',\n",
    "        label= sitnm\n",
    "    )\n",
    "\n",
    "fig.show()\n",
    "fig.text(text = 'January 2020', x = -90, y = 28 )\n",
    "\n",
    "########################"
   ]
  },
  {
   "cell_type": "code",
   "execution_count": null,
   "metadata": {},
   "outputs": [],
   "source": [
    "#FEB VALUES\n",
    "fig2 = pygmt.Figure()\n",
    "\n",
    "fig2.coast(\n",
    "    region=[-115, -70, 25, 45],\n",
    "    projection='M4i',\n",
    "    shorelines=True,\n",
    "    water='lightblue',\n",
    "    land='white',\n",
    "    frame=True,\n",
    ")\n",
    "\n",
    "\n",
    "#### there is a bug here that wasn't here in jan, feb has many nan values, \n",
    "#### need to get rid of them because otherwise the string conversion to greyscale\n",
    "#### wont work. would like to preferably remove the nan and its corresponding\n",
    "#### lat long values, but that is proving difficult. cant turn it into a 0 because \n",
    "#### that is an actual greyscale value. need to actually remove it from the whole DF if it is nan\n",
    "\n",
    "\n",
    "febcolor = []\n",
    "for i in alldataDF['Mean Values Feb']:\n",
    "    febcolor.append(str(i*255/10))\n",
    "\n",
    "#need to define the coords in a new variable\n",
    "coordscolorfeb = pd.DataFrame(list(zip(longdata,latdata,febcolor,meanvalsfeb)))\n",
    "#had to clean up data set so that if it was nan or 0, i converted it to 0 \n",
    "#and then removed it from the set\n",
    "coordscolorfeb = coordscolorfeb.fillna(0)\n",
    "coordscolorfeb = coordscolorfeb[(coordscolorfeb != 0).all(1)]\n",
    "#ok so I had to change it from a list to a DF to remove nan and 0, can't call the dataframe \n",
    "#in the for loop so i need to change it back to a list smh\n",
    "longdatafeb,latdatafeb = coordscolorfeb[0], coordscolorfeb[1]\n",
    "febcolordata,febmeandata = coordscolorfeb[2],coordscolorfeb[3]\n",
    "#zip them all together and then make them a list again \n",
    "cleaneddatafeb = list(zip(longdatafeb, latdatafeb, febcolordata))\n",
    "#now I get to make the figure \n",
    "    \n",
    "for clong,clat,col in cleaneddatafeb:  \n",
    "    fig2.plot(\n",
    "        x=clong,\n",
    "        y=clat,\n",
    "        style='c0.1i',\n",
    "        color= col,\n",
    "        pen='black',\n",
    "        legend = 'blank'\n",
    "    )\n",
    "\n",
    "fig2.text(text = 'Feburary 2020', x = -90, y = 28 )\n",
    "fig2.show()\n",
    "\n",
    "#\n",
    "#######"
   ]
  },
  {
   "cell_type": "code",
   "execution_count": null,
   "metadata": {},
   "outputs": [],
   "source": [
    "#march!!\n",
    "fig3 = pygmt.Figure()\n",
    "\n",
    "fig3.coast(\n",
    "    region=[-115, -70, 25, 45],\n",
    "    projection='M4i',\n",
    "    shorelines=True,\n",
    "    water='lightblue',\n",
    "    land='white',\n",
    "    frame=True,\n",
    ")\n",
    "\n",
    "\n",
    "#### there is a bug here that wasn't here in jan, feb has many nan values, \n",
    "#### need to get rid of them because otherwise the string conversion to greyscale\n",
    "#### wont work. would like to preferably remove the nan and its corresponding\n",
    "#### lat long values, but that is proving difficult. cant turn it into a 0 because \n",
    "#### that is an actual greyscale value. need to actually remove it from the whole DF if it is nan\n",
    "\n",
    "\n",
    "marcolor = []\n",
    "for i in alldataDF['Mean Values March']:\n",
    "    marcolor.append(str(i*255/10))\n",
    "\n",
    "#need to define the coords in a new variable\n",
    "coordscolormar = pd.DataFrame(list(zip(longdata,latdata,marcolor,meanvalsmar)))\n",
    "#had to clean up data set so that if it was nan or 0, i converted it to 0 \n",
    "#and then removed it from the set\n",
    "coordscolormar = coordscolormar.fillna(0)\n",
    "coordscolormar = coordscolormar[(coordscolormar != 0).all(1)]\n",
    "#ok so I had to change it from a list to a DF to remove nan and 0, can't call the dataframe \n",
    "#in the for loop so i need to change it back to a list smh\n",
    "longdatamar,latdatamar = coordscolormar[0], coordscolormar[1]\n",
    "marcolordata,marmeandata = coordscolormar[2],coordscolormar[3]\n",
    "#zip them all together and then make them a list again \n",
    "cleaneddatamar = list(zip(longdatamar, latdatamar, marcolordata))\n",
    "#now I get to make the figure \n",
    "    \n",
    "for clong,clat,col in cleaneddatamar:  \n",
    "    fig3.plot(\n",
    "        x=clong,\n",
    "        y=clat,\n",
    "        style='c0.1i',\n",
    "        color= col,\n",
    "        pen='black',\n",
    "        legend = 'blank'\n",
    "    )\n",
    "\n",
    "fig3.text(text = 'March 2020', x = -90, y = 28 )\n",
    "fig3.show()\n",
    "\n",
    "########"
   ]
  },
  {
   "cell_type": "code",
   "execution_count": null,
   "metadata": {},
   "outputs": [],
   "source": [
    "#april!!\n",
    "fig4 = pygmt.Figure()\n",
    "\n",
    "fig4.coast(\n",
    "    region=[-115, -70, 25, 45],\n",
    "    projection='M4i',\n",
    "    shorelines=True,\n",
    "    water='lightblue',\n",
    "    land='white',\n",
    "    frame=True,\n",
    ")\n",
    "\n",
    "\n",
    "#### there is a bug here that wasn't here in jan, feb has many nan values, \n",
    "#### need to get rid of them because otherwise the string conversion to greyscale\n",
    "#### wont work. would like to preferably remove the nan and its corresponding\n",
    "#### lat long values, but that is proving difficult. cant turn it into a 0 because \n",
    "#### that is an actual greyscale value. need to actually remove it from the whole DF if it is nan\n",
    "\n",
    "\n",
    "aprcolor = []\n",
    "for i in alldataDF['Mean Values April']:\n",
    "    aprcolor.append(str(i*255/10))\n",
    "\n",
    "#need to define the coords in a new variable\n",
    "coordscolorapr = pd.DataFrame(list(zip(longdata,latdata,aprcolor,meanvalsapr)))\n",
    "#had to clean up data set so that if it was nan or 0, i converted it to 0 \n",
    "#and then removed it from the set\n",
    "coordscolorapr = coordscolorapr.fillna(0)\n",
    "coordscolorapr = coordscolorapr[(coordscolorapr != 0).all(1)]\n",
    "#ok so I had to change it from a list to a DF to remove nan and 0, can't call the dataframe \n",
    "#in the for loop so i need to change it back to a list smh\n",
    "longdataapr,latdataapr = coordscolorapr[0], coordscolorapr[1]\n",
    "aprcolordata,aprmeandata = coordscolorapr[2],coordscolorapr[3]\n",
    "#zip them all together and then make them a list again \n",
    "cleaneddataapr = list(zip(longdataapr, latdataapr, aprcolordata))\n",
    "#now I get to make the figure \n",
    "    \n",
    "for clong,clat,col in cleaneddataapr:  \n",
    "    fig4.plot(\n",
    "        x=clong,\n",
    "        y=clat,\n",
    "        style='c0.1i',\n",
    "        color= col,\n",
    "        pen='black',\n",
    "    )\n",
    "fig4.text(text = 'April 2020', x = -90, y = 28 )\n",
    "fig4.show()\n",
    "help(fig.plot)"
   ]
  },
  {
   "cell_type": "code",
   "execution_count": null,
   "metadata": {},
   "outputs": [],
   "source": [
    "fig.show(method='external')\n",
    "fig2.show(method='external')\n",
    "fig3.show(method='external')\n",
    "fig4.show(method='external')"
   ]
  }
 ],
 "metadata": {
  "kernelspec": {
   "display_name": "Python 3",
   "language": "python",
   "name": "python3"
  },
  "language_info": {
   "codemirror_mode": {
    "name": "ipython",
    "version": 3
   },
   "file_extension": ".py",
   "mimetype": "text/x-python",
   "name": "python",
   "nbconvert_exporter": "python",
   "pygments_lexer": "ipython3",
   "version": "3.7.4"
  }
 },
 "nbformat": 4,
 "nbformat_minor": 2
}
